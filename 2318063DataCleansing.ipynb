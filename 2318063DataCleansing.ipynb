{
  "nbformat": 4,
  "nbformat_minor": 0,
  "metadata": {
    "colab": {
      "provenance": [],
      "authorship_tag": "ABX9TyOdYXTZL2qamOI4rrN6nNBk",
      "include_colab_link": true
    },
    "kernelspec": {
      "name": "python3",
      "display_name": "Python 3"
    },
    "language_info": {
      "name": "python"
    }
  },
  "cells": [
    {
      "cell_type": "markdown",
      "metadata": {
        "id": "view-in-github",
        "colab_type": "text"
      },
      "source": [
        "<a href=\"https://colab.research.google.com/github/JasaSK/DataCleansingStudentPerformanceFactors/blob/main/2318063DataCleansing.ipynb\" target=\"_parent\"><img src=\"https://colab.research.google.com/assets/colab-badge.svg\" alt=\"Open In Colab\"/></a>"
      ]
    },
    {
      "cell_type": "markdown",
      "source": [
        "# 1. Import Libraries"
      ],
      "metadata": {
        "id": "NCQC9uwq94Z_"
      }
    },
    {
      "cell_type": "code",
      "source": [
        "import pandas as pd"
      ],
      "metadata": {
        "id": "86MvwVQE9yhb"
      },
      "execution_count": 16,
      "outputs": []
    },
    {
      "cell_type": "code",
      "source": [
        "from google.colab import files\n",
        "\n",
        "# ini akan munculin tombol \"Choose File\"\n",
        "uploaded = files.upload()"
      ],
      "metadata": {
        "colab": {
          "base_uri": "https://localhost:8080/",
          "height": 73
        },
        "id": "o4AlWXQJTZuA",
        "outputId": "6066b0d4-c6b0-40c9-f00d-9a7e00189df8"
      },
      "execution_count": 17,
      "outputs": [
        {
          "output_type": "display_data",
          "data": {
            "text/plain": [
              "<IPython.core.display.HTML object>"
            ],
            "text/html": [
              "\n",
              "     <input type=\"file\" id=\"files-06e92986-11e8-4068-8b01-54f173e88a1e\" name=\"files[]\" multiple disabled\n",
              "        style=\"border:none\" />\n",
              "     <output id=\"result-06e92986-11e8-4068-8b01-54f173e88a1e\">\n",
              "      Upload widget is only available when the cell has been executed in the\n",
              "      current browser session. Please rerun this cell to enable.\n",
              "      </output>\n",
              "      <script>// Copyright 2017 Google LLC\n",
              "//\n",
              "// Licensed under the Apache License, Version 2.0 (the \"License\");\n",
              "// you may not use this file except in compliance with the License.\n",
              "// You may obtain a copy of the License at\n",
              "//\n",
              "//      http://www.apache.org/licenses/LICENSE-2.0\n",
              "//\n",
              "// Unless required by applicable law or agreed to in writing, software\n",
              "// distributed under the License is distributed on an \"AS IS\" BASIS,\n",
              "// WITHOUT WARRANTIES OR CONDITIONS OF ANY KIND, either express or implied.\n",
              "// See the License for the specific language governing permissions and\n",
              "// limitations under the License.\n",
              "\n",
              "/**\n",
              " * @fileoverview Helpers for google.colab Python module.\n",
              " */\n",
              "(function(scope) {\n",
              "function span(text, styleAttributes = {}) {\n",
              "  const element = document.createElement('span');\n",
              "  element.textContent = text;\n",
              "  for (const key of Object.keys(styleAttributes)) {\n",
              "    element.style[key] = styleAttributes[key];\n",
              "  }\n",
              "  return element;\n",
              "}\n",
              "\n",
              "// Max number of bytes which will be uploaded at a time.\n",
              "const MAX_PAYLOAD_SIZE = 100 * 1024;\n",
              "\n",
              "function _uploadFiles(inputId, outputId) {\n",
              "  const steps = uploadFilesStep(inputId, outputId);\n",
              "  const outputElement = document.getElementById(outputId);\n",
              "  // Cache steps on the outputElement to make it available for the next call\n",
              "  // to uploadFilesContinue from Python.\n",
              "  outputElement.steps = steps;\n",
              "\n",
              "  return _uploadFilesContinue(outputId);\n",
              "}\n",
              "\n",
              "// This is roughly an async generator (not supported in the browser yet),\n",
              "// where there are multiple asynchronous steps and the Python side is going\n",
              "// to poll for completion of each step.\n",
              "// This uses a Promise to block the python side on completion of each step,\n",
              "// then passes the result of the previous step as the input to the next step.\n",
              "function _uploadFilesContinue(outputId) {\n",
              "  const outputElement = document.getElementById(outputId);\n",
              "  const steps = outputElement.steps;\n",
              "\n",
              "  const next = steps.next(outputElement.lastPromiseValue);\n",
              "  return Promise.resolve(next.value.promise).then((value) => {\n",
              "    // Cache the last promise value to make it available to the next\n",
              "    // step of the generator.\n",
              "    outputElement.lastPromiseValue = value;\n",
              "    return next.value.response;\n",
              "  });\n",
              "}\n",
              "\n",
              "/**\n",
              " * Generator function which is called between each async step of the upload\n",
              " * process.\n",
              " * @param {string} inputId Element ID of the input file picker element.\n",
              " * @param {string} outputId Element ID of the output display.\n",
              " * @return {!Iterable<!Object>} Iterable of next steps.\n",
              " */\n",
              "function* uploadFilesStep(inputId, outputId) {\n",
              "  const inputElement = document.getElementById(inputId);\n",
              "  inputElement.disabled = false;\n",
              "\n",
              "  const outputElement = document.getElementById(outputId);\n",
              "  outputElement.innerHTML = '';\n",
              "\n",
              "  const pickedPromise = new Promise((resolve) => {\n",
              "    inputElement.addEventListener('change', (e) => {\n",
              "      resolve(e.target.files);\n",
              "    });\n",
              "  });\n",
              "\n",
              "  const cancel = document.createElement('button');\n",
              "  inputElement.parentElement.appendChild(cancel);\n",
              "  cancel.textContent = 'Cancel upload';\n",
              "  const cancelPromise = new Promise((resolve) => {\n",
              "    cancel.onclick = () => {\n",
              "      resolve(null);\n",
              "    };\n",
              "  });\n",
              "\n",
              "  // Wait for the user to pick the files.\n",
              "  const files = yield {\n",
              "    promise: Promise.race([pickedPromise, cancelPromise]),\n",
              "    response: {\n",
              "      action: 'starting',\n",
              "    }\n",
              "  };\n",
              "\n",
              "  cancel.remove();\n",
              "\n",
              "  // Disable the input element since further picks are not allowed.\n",
              "  inputElement.disabled = true;\n",
              "\n",
              "  if (!files) {\n",
              "    return {\n",
              "      response: {\n",
              "        action: 'complete',\n",
              "      }\n",
              "    };\n",
              "  }\n",
              "\n",
              "  for (const file of files) {\n",
              "    const li = document.createElement('li');\n",
              "    li.append(span(file.name, {fontWeight: 'bold'}));\n",
              "    li.append(span(\n",
              "        `(${file.type || 'n/a'}) - ${file.size} bytes, ` +\n",
              "        `last modified: ${\n",
              "            file.lastModifiedDate ? file.lastModifiedDate.toLocaleDateString() :\n",
              "                                    'n/a'} - `));\n",
              "    const percent = span('0% done');\n",
              "    li.appendChild(percent);\n",
              "\n",
              "    outputElement.appendChild(li);\n",
              "\n",
              "    const fileDataPromise = new Promise((resolve) => {\n",
              "      const reader = new FileReader();\n",
              "      reader.onload = (e) => {\n",
              "        resolve(e.target.result);\n",
              "      };\n",
              "      reader.readAsArrayBuffer(file);\n",
              "    });\n",
              "    // Wait for the data to be ready.\n",
              "    let fileData = yield {\n",
              "      promise: fileDataPromise,\n",
              "      response: {\n",
              "        action: 'continue',\n",
              "      }\n",
              "    };\n",
              "\n",
              "    // Use a chunked sending to avoid message size limits. See b/62115660.\n",
              "    let position = 0;\n",
              "    do {\n",
              "      const length = Math.min(fileData.byteLength - position, MAX_PAYLOAD_SIZE);\n",
              "      const chunk = new Uint8Array(fileData, position, length);\n",
              "      position += length;\n",
              "\n",
              "      const base64 = btoa(String.fromCharCode.apply(null, chunk));\n",
              "      yield {\n",
              "        response: {\n",
              "          action: 'append',\n",
              "          file: file.name,\n",
              "          data: base64,\n",
              "        },\n",
              "      };\n",
              "\n",
              "      let percentDone = fileData.byteLength === 0 ?\n",
              "          100 :\n",
              "          Math.round((position / fileData.byteLength) * 100);\n",
              "      percent.textContent = `${percentDone}% done`;\n",
              "\n",
              "    } while (position < fileData.byteLength);\n",
              "  }\n",
              "\n",
              "  // All done.\n",
              "  yield {\n",
              "    response: {\n",
              "      action: 'complete',\n",
              "    }\n",
              "  };\n",
              "}\n",
              "\n",
              "scope.google = scope.google || {};\n",
              "scope.google.colab = scope.google.colab || {};\n",
              "scope.google.colab._files = {\n",
              "  _uploadFiles,\n",
              "  _uploadFilesContinue,\n",
              "};\n",
              "})(self);\n",
              "</script> "
            ]
          },
          "metadata": {}
        },
        {
          "output_type": "stream",
          "name": "stdout",
          "text": [
            "Saving StudentPerformanceFactors300_Kotor.csv to StudentPerformanceFactors300_Kotor (1).csv\n"
          ]
        }
      ]
    },
    {
      "cell_type": "markdown",
      "source": [
        "# 2. Baca Dataset pelanggan yang kotor"
      ],
      "metadata": {
        "id": "ShfkYkAb-xO6"
      }
    },
    {
      "cell_type": "code",
      "source": [
        "# Baca file .csv\n",
        "file_path = 'StudentPerformanceFactors300_Kotor.csv'\n",
        "data = pd.read_csv(file_path)"
      ],
      "metadata": {
        "id": "smguyyYL48yz"
      },
      "execution_count": 18,
      "outputs": []
    },
    {
      "cell_type": "code",
      "source": [
        "# Tampilkan data\n",
        "print(data)"
      ],
      "metadata": {
        "colab": {
          "base_uri": "https://localhost:8080/"
        },
        "id": "FgxBZfuT9tcQ",
        "outputId": "576dc75f-ca20-47fb-eded-649bded055b4"
      },
      "execution_count": 19,
      "outputs": [
        {
          "output_type": "stream",
          "name": "stdout",
          "text": [
            "     Jam_Belajar  Kehadiran Keterlibatan_Orang_Tua Akses_Sumber_Daya Kegiatan_Ekstrakurikuler  Jam_Tidur  \\\n",
            "0          23.00      84.00                 Rendah            Tinggi                    Tidak       7.00   \n",
            "1          19.00      64.00                 Rendah            Sedang                    Tidak       8.00   \n",
            "2          24.00      98.00                 Sedang            Sedang                       Ya       7.00   \n",
            "3          29.00      89.00                 Rendah               NaN                       Ya       8.00   \n",
            "4          19.00      92.00                 Sedang            Sedang                       Ya       6.00   \n",
            "..           ...        ...                    ...               ...                      ...        ...   \n",
            "295        16.00      83.00                 Sedang            Tinggi                       Ya       7.00   \n",
            "296        25.00      73.00                 Rendah            Rendah                      NaN       8.00   \n",
            "297          NaN      63.00                 Rendah            Rendah                    Tidak       8.00   \n",
            "298        25.00      69.00                 Tinggi            Sedang                       Ya       9.00   \n",
            "299        24.00      68.00                 Sedang            Sedang                       Ya       6.00   \n",
            "\n",
            "     Nilai_Sebelumnya Tingkat_Motivasi Akses_Internet  Sesi_Bimbingan Pendapatan_Keluarga Kualitas_Guru Jenis_Sekolah  \\\n",
            "0               73.00           Rendah             Ya            0.00              Rendah        Sedang        Negeri   \n",
            "1               59.00           Rendah             Ya            2.00              Sedang        Sedang        Negeri   \n",
            "2               91.00           Sedang             Ya            2.00              Sedang        Sedang        Negeri   \n",
            "3               98.00           Sedang             Ya            1.00              Sedang        Sedang        Negeri   \n",
            "4               65.00           Sedang             Ya            3.00              Sedang        Tinggi        Negeri   \n",
            "..                ...              ...            ...             ...                 ...           ...           ...   \n",
            "295             56.00           Rendah             Ya            4.00              Tinggi        Sedang        Negeri   \n",
            "296             69.00           Sedang             Ya            3.00              Sedang        Sedang       Priv@te   \n",
            "297             83.00           Sedang             Ya            3.00              Sedang        Sedang        Swasta   \n",
            "298             98.00           Sedang             Ya            1.00              Rendah        Sedang        Negeri   \n",
            "299             74.00           Sedang             Ya            1.00              Sedang        Sedang        Negeri   \n",
            "\n",
            "    Pengaruh_Teman  Aktivitas_Fisik Kesulitan_Belajar Pendidikan_Orang_Tua     Jarak_dari_Rumah Jenis_Kelamin  \\\n",
            "0          Positif             3.00             Tidak                  SMA                Dekat     Laki-laki   \n",
            "1          Negatif             4.00             Tidak     Perguruan Tinggi  Sedang/Jarak Sedang     Perempuan   \n",
            "2              NaN             4.00             Tidak         Pascasarjana                Dekat     Laki-laki   \n",
            "3          Negatif             4.00             Tidak                  SMA  Sedang/Jarak Sedang     Laki-laki   \n",
            "4           Netral             4.00             Tidak     Perguruan Tinggi                Dekat     Perempuan   \n",
            "..             ...              ...               ...                  ...                  ...           ...   \n",
            "295        Positif             3.00             Tidak                  SMA                Dekat     Perempuan   \n",
            "296            NaN             3.00             Tidak                  SMA                Dekat     Perempuan   \n",
            "297        Negatif             1.00             Tidak     Perguruan Tinggi                 NEAR     Laki-laki   \n",
            "298        Negatif             3.00                Ya     Perguruan Tinggi  Sedang/Jarak Sedang     Perempuan   \n",
            "299        neutral             3.00             Tidak          High School                 NEAR     Perempuan   \n",
            "\n",
            "     Nilai_Ujian  \n",
            "0          67.00  \n",
            "1          61.00  \n",
            "2          74.00  \n",
            "3          71.00  \n",
            "4            NaN  \n",
            "..           ...  \n",
            "295        68.00  \n",
            "296        66.00  \n",
            "297        63.00  \n",
            "298        66.00  \n",
            "299          NaN  \n",
            "\n",
            "[300 rows x 20 columns]\n"
          ]
        }
      ]
    },
    {
      "cell_type": "markdown",
      "source": [
        "# 3. Menampilkan struktur variable data siswa"
      ],
      "metadata": {
        "id": "yD3utP74_o1L"
      }
    },
    {
      "cell_type": "code",
      "source": [
        "print(\"Struktur Data Siswa:\")\n",
        "print(data.info())"
      ],
      "metadata": {
        "colab": {
          "base_uri": "https://localhost:8080/"
        },
        "id": "3uyiow6w8RDq",
        "outputId": "81e48b56-11ef-4eef-b072-8b1b04033608"
      },
      "execution_count": 20,
      "outputs": [
        {
          "output_type": "stream",
          "name": "stdout",
          "text": [
            "Struktur Data Siswa:\n",
            "<class 'pandas.core.frame.DataFrame'>\n",
            "RangeIndex: 300 entries, 0 to 299\n",
            "Data columns (total 20 columns):\n",
            " #   Column                    Non-Null Count  Dtype  \n",
            "---  ------                    --------------  -----  \n",
            " 0   Jam_Belajar               285 non-null    float64\n",
            " 1   Kehadiran                 285 non-null    float64\n",
            " 2   Keterlibatan_Orang_Tua    285 non-null    object \n",
            " 3   Akses_Sumber_Daya         285 non-null    object \n",
            " 4   Kegiatan_Ekstrakurikuler  285 non-null    object \n",
            " 5   Jam_Tidur                 285 non-null    float64\n",
            " 6   Nilai_Sebelumnya          285 non-null    float64\n",
            " 7   Tingkat_Motivasi          285 non-null    object \n",
            " 8   Akses_Internet            285 non-null    object \n",
            " 9   Sesi_Bimbingan            285 non-null    float64\n",
            " 10  Pendapatan_Keluarga       285 non-null    object \n",
            " 11  Kualitas_Guru             269 non-null    object \n",
            " 12  Jenis_Sekolah             285 non-null    object \n",
            " 13  Pengaruh_Teman            285 non-null    object \n",
            " 14  Aktivitas_Fisik           285 non-null    float64\n",
            " 15  Kesulitan_Belajar         285 non-null    object \n",
            " 16  Pendidikan_Orang_Tua      269 non-null    object \n",
            " 17  Jarak_dari_Rumah          268 non-null    object \n",
            " 18  Jenis_Kelamin             285 non-null    object \n",
            " 19  Nilai_Ujian               285 non-null    float64\n",
            "dtypes: float64(7), object(13)\n",
            "memory usage: 47.0+ KB\n",
            "None\n"
          ]
        }
      ]
    },
    {
      "cell_type": "code",
      "source": [
        "# Tampilkan nama kolom dan tipe data kolom\n",
        "column_types = data.dtypes\n",
        "print(column_types)"
      ],
      "metadata": {
        "colab": {
          "base_uri": "https://localhost:8080/"
        },
        "id": "MsaikKPQ8nab",
        "outputId": "cae0c18d-e36f-49f4-8741-2972ef8d5c38"
      },
      "execution_count": 21,
      "outputs": [
        {
          "output_type": "stream",
          "name": "stdout",
          "text": [
            "Jam_Belajar                 float64\n",
            "Kehadiran                   float64\n",
            "Keterlibatan_Orang_Tua       object\n",
            "Akses_Sumber_Daya            object\n",
            "Kegiatan_Ekstrakurikuler     object\n",
            "Jam_Tidur                   float64\n",
            "Nilai_Sebelumnya            float64\n",
            "Tingkat_Motivasi             object\n",
            "Akses_Internet               object\n",
            "Sesi_Bimbingan              float64\n",
            "Pendapatan_Keluarga          object\n",
            "Kualitas_Guru                object\n",
            "Jenis_Sekolah                object\n",
            "Pengaruh_Teman               object\n",
            "Aktivitas_Fisik             float64\n",
            "Kesulitan_Belajar            object\n",
            "Pendidikan_Orang_Tua         object\n",
            "Jarak_dari_Rumah             object\n",
            "Jenis_Kelamin                object\n",
            "Nilai_Ujian                 float64\n",
            "dtype: object\n"
          ]
        }
      ]
    },
    {
      "cell_type": "markdown",
      "source": [
        "# 4. Data Preprocessing - Pembersihan dan Normalisasi Jenis_Kelamin\n"
      ],
      "metadata": {
        "id": "q8eDgcbUVm6I"
      }
    },
    {
      "cell_type": "code",
      "source": [
        "# 1. Hapus spasi dan ubah ke huruf kecil\n",
        "data['Jenis_Kelamin'] = data['Jenis_Kelamin'].astype(str).str.strip().str.lower()\n",
        "\n",
        "# 2. Mapping variasi ke standar\n",
        "mapping_kelamin = {\n",
        "    'l': 'Laki-Laki',\n",
        "    'laki': 'Laki-Laki',\n",
        "    'laki2': 'Laki-Laki',\n",
        "    'm@le': 'Laki-Laki',\n",
        "    'male': 'Laki-Laki',\n",
        "    'MALE': 'Laki-Laki',\n",
        "    'laki-laki': 'Laki-Laki',\n",
        "    'p': 'Perempuan',\n",
        "    'perempuan': 'Perempuan',\n",
        "    'female': 'Perempuan',\n",
        "    'wanita': 'Perempuan'\n",
        "}\n",
        "data['Jenis_Kelamin'] = data['Jenis_Kelamin'].replace(mapping_kelamin)\n",
        "\n",
        "# 3. Isi NaN dengan modus\n",
        "modus_kelamin = data['Jenis_Kelamin'].mode()[0]\n",
        "data['Jenis_Kelamin'] = data['Jenis_Kelamin'].replace('nan', modus_kelamin)\n",
        "\n",
        "# 4. Cek hasil\n",
        "print(data['Jenis_Kelamin'].value_counts())\n"
      ],
      "metadata": {
        "colab": {
          "base_uri": "https://localhost:8080/"
        },
        "id": "KqU_J8l3ORKt",
        "outputId": "c40c76dd-706a-4d4c-9c5a-48d52a00e6f8"
      },
      "execution_count": 22,
      "outputs": [
        {
          "output_type": "stream",
          "name": "stdout",
          "text": [
            "Jenis_Kelamin\n",
            "Laki-Laki    190\n",
            "Perempuan    110\n",
            "Name: count, dtype: int64\n"
          ]
        }
      ]
    },
    {
      "cell_type": "markdown",
      "source": [
        "# 5. Data Preprocessing - Pembersihan dan Standarisasi Jam_Belajar"
      ],
      "metadata": {
        "id": "U3VH1kfgGesB"
      }
    },
    {
      "cell_type": "code",
      "source": [
        "# 1. Hapus spasi dan convert ke string\n",
        "data['Jam_Belajar'] = data['Jam_Belajar'].astype(str).str.strip()\n",
        "\n",
        "# 2. Mapping teks jadi angka\n",
        "mapping_teks = {\n",
        "    \"nol\": 0, \"satu\": 1, \"dua\": 2, \"tiga\": 3, \"empat\": 4,\n",
        "    \"lima\": 5, \"enam\": 6, \"tujuh\": 7, \"delapan\": 8, \"sembilan\": 9, \"sepuluh\": 10\n",
        "}\n",
        "data['Jam_Belajar'] = data['Jam_Belajar'].replace(mapping_teks)\n",
        "\n",
        "# 3. Ubah ke numeric\n",
        "data['Jam_Belajar'] = pd.to_numeric(data['Jam_Belajar'], errors='coerce')\n",
        "\n",
        "# 4. Isi NaN dengan median (tanpa inplace)\n",
        "data['Jam_Belajar'] = data['Jam_Belajar'].fillna(data['Jam_Belajar'].median())\n",
        "\n",
        "# Batasi nilai minimum dan maksimum\n",
        "data['Jam_Belajar'] = data['Jam_Belajar'].apply(lambda x: x if 5 <= x <= 24 else None)\n",
        "\n",
        "median_jam = data['Jam_Belajar'].median()\n",
        "data['Jam_Belajar'] = data['Jam_Belajar'].fillna(median_jam)\n",
        "\n",
        "print(data['Jam_Belajar'].value_counts())\n",
        "\n"
      ],
      "metadata": {
        "colab": {
          "base_uri": "https://localhost:8080/"
        },
        "id": "T49SCmdBF0K2",
        "outputId": "17e2c902-3f2a-4dcd-b080-ad9354d4c16d"
      },
      "execution_count": 23,
      "outputs": [
        {
          "output_type": "stream",
          "name": "stdout",
          "text": [
            "Jam_Belajar\n",
            "19.00    78\n",
            "20.00    31\n",
            "22.00    26\n",
            "21.00    21\n",
            "17.00    20\n",
            "16.00    17\n",
            "23.00    15\n",
            "15.00    15\n",
            "24.00    14\n",
            "18.00    14\n",
            "13.00    13\n",
            "14.00    11\n",
            "11.00     8\n",
            "12.00     7\n",
            "8.00      4\n",
            "9.00      3\n",
            "10.00     3\n",
            "Name: count, dtype: int64\n"
          ]
        }
      ]
    },
    {
      "cell_type": "markdown",
      "source": [
        "# 6. Data Preprocessing - Pembersihan dan Standarisasi Jarak_Dari_Rumah"
      ],
      "metadata": {
        "id": "hzz74KUePBLj"
      }
    },
    {
      "cell_type": "code",
      "source": [
        "# 1. Bersihkan spasi, huruf besar/kecil, dan ubah ke lowercase\n",
        "data['Jarak_dari_Rumah'] = data['Jarak_dari_Rumah'].astype(str).str.strip().str.lower()\n",
        "\n",
        "# 2. Mapping variasi ke standar\n",
        "mapping_jarak = {\n",
        "    'dekat': 'Dekat',\n",
        "    'near': 'Dekat',\n",
        "    'ne@r': 'Dekat',\n",
        "    'jauh': 'Jauh',\n",
        "    'f@r': 'Jauh',\n",
        "    'far': 'Jauh',\n",
        "    'sedang/ jarak sedang': 'Sedang',\n",
        "    'sedang/jarak sedang': 'Sedang',\n",
        "    'moderate': 'Sedang',\n",
        "    'moderat@': 'Sedang',\n",
        "    'moder@te': 'Sedang'\n",
        "}\n",
        "\n",
        "data['Jarak_dari_Rumah'] = data['Jarak_dari_Rumah'].replace(mapping_jarak)\n",
        "\n",
        "# 3. Isi nilai kosong dengan modus\n",
        "modus_jarak = data['Jarak_dari_Rumah'].mode()[0]\n",
        "data['Jarak_dari_Rumah'] = data['Jarak_dari_Rumah'].replace('nan', modus_jarak)\n",
        "\n",
        "# 4. Cek hasil\n",
        "print(data['Jarak_dari_Rumah'].value_counts())\n"
      ],
      "metadata": {
        "colab": {
          "base_uri": "https://localhost:8080/"
        },
        "id": "jDZQc3jaVrLV",
        "outputId": "80281494-9b73-482e-a563-e87751f406b3"
      },
      "execution_count": 24,
      "outputs": [
        {
          "output_type": "stream",
          "name": "stdout",
          "text": [
            "Jarak_dari_Rumah\n",
            "Dekat     192\n",
            "Sedang     74\n",
            "Jauh       34\n",
            "Name: count, dtype: int64\n"
          ]
        }
      ]
    },
    {
      "cell_type": "markdown",
      "source": [
        "# 7. Data Preprocessing - Pembersihan dan Standarisasi Jenis_Sekolah"
      ],
      "metadata": {
        "id": "zptGmJUsXn0Z"
      }
    },
    {
      "cell_type": "code",
      "source": [
        "# 1. Bersihkan spasi dan ubah ke huruf kecil\n",
        "data['Jenis_Sekolah'] = data['Jenis_Sekolah'].astype(str).str.strip().str.lower()\n",
        "\n",
        "# 2. Mapping variasi ke standar\n",
        "mapping_sekolah = {\n",
        "    'negeri': 'Negeri',\n",
        "    'negri': 'Negeri',   # typo umum\n",
        "    'swasta': 'Swasta',\n",
        "    'swsta': 'Swasta',   # typo\n",
        "    'swt': 'Swasta',\n",
        "    'priv@te': 'Swasta',\n",
        "    'private': 'Swasta',\n",
        "    'public': 'Publik'\n",
        "}\n",
        "data['Jenis_Sekolah'] = data['Jenis_Sekolah'].replace(mapping_sekolah)\n",
        "\n",
        "# 3. Isi nilai kosong dengan modus\n",
        "modus_sekolah = data['Jenis_Sekolah'].mode()[0]\n",
        "data['Jenis_Sekolah'] = data['Jenis_Sekolah'].replace('nan', modus_sekolah)\n",
        "\n",
        "# 4. Cek hasil\n",
        "print(data['Jenis_Sekolah'].value_counts())\n"
      ],
      "metadata": {
        "colab": {
          "base_uri": "https://localhost:8080/"
        },
        "id": "yhFwntvtXr3v",
        "outputId": "9c320dd1-5370-4214-b07d-ed02896bc1aa"
      },
      "execution_count": 25,
      "outputs": [
        {
          "output_type": "stream",
          "name": "stdout",
          "text": [
            "Jenis_Sekolah\n",
            "Negeri    190\n",
            "Swasta     77\n",
            "Publik     32\n",
            "publik      1\n",
            "Name: count, dtype: int64\n"
          ]
        }
      ]
    },
    {
      "cell_type": "markdown",
      "source": [
        "# 8. Data Preprocessing - Pembersihan dan Standarisasi Pengaruh_Teman"
      ],
      "metadata": {
        "id": "YuAv2NPeYdFQ"
      }
    },
    {
      "cell_type": "code",
      "source": [
        "# 1. Bersihkan spasi dan ubah ke huruf kecil\n",
        "data['Pengaruh_Teman'] = data['Pengaruh_Teman'].astype(str).str.strip().str.lower()\n",
        "\n",
        "# 2. Mapping variasi ke standar\n",
        "mapping_pengaruh = {\n",
        "    'netral': 'Netral',\n",
        "    'neutral': 'Netral',\n",
        "    'positif': 'Positif',\n",
        "    'positive': 'Positif',\n",
        "    'negatif': 'Negatif',\n",
        "    'negative': 'Negatif',\n",
        "\n",
        "}\n",
        "data['Pengaruh_Teman'] = data['Pengaruh_Teman'].replace(mapping_pengaruh)\n",
        "\n",
        "# 3. Isi nilai kosong dengan modus\n",
        "modus_pengaruh = data['Pengaruh_Teman'].mode()[0]\n",
        "data['Pengaruh_Teman'] = data['Pengaruh_Teman'].replace('nan', modus_pengaruh)\n",
        "\n",
        "# 4. Cek hasil\n",
        "print(data['Pengaruh_Teman'].value_counts())\n"
      ],
      "metadata": {
        "colab": {
          "base_uri": "https://localhost:8080/"
        },
        "id": "T7g7BYCmYkta",
        "outputId": "93d0f419-6f6b-46f5-9af0-7de6ff4a4a42"
      },
      "execution_count": 26,
      "outputs": [
        {
          "output_type": "stream",
          "name": "stdout",
          "text": [
            "Pengaruh_Teman\n",
            "Positif    138\n",
            "Netral     107\n",
            "Negatif     55\n",
            "Name: count, dtype: int64\n"
          ]
        }
      ]
    },
    {
      "cell_type": "markdown",
      "source": [
        "# 9. Data Preprocessing - Pembersihan dan Standarisasi Pendidikan_Orang_Tua"
      ],
      "metadata": {
        "id": "OyskLvt7ZOoe"
      }
    },
    {
      "cell_type": "code",
      "source": [
        "# 1. Bersihkan spasi dan ubah ke huruf kecil\n",
        "data['Pendidikan_Orang_Tua'] = data['Pendidikan_Orang_Tua'].astype(str).str.strip().str.lower()\n",
        "\n",
        "# 2. Mapping variasi ke standar\n",
        "mapping_pendidikan = {\n",
        "    'sma': 'SMA',\n",
        "    'high school': 'SMA',\n",
        "    'perguruan tinggi': 'Perguruan Tinggi',\n",
        "    'college': 'Perguruan Tinggi',\n",
        "    'pascasarjana': 'Pascasarjana',\n",
        "    'postgraduate': 'Pascasarjana',\n",
        "    'postgr@du@te': 'Pascasarjana'\n",
        "}\n",
        "\n",
        "data['Pendidikan_Orang_Tua'] = data['Pendidikan_Orang_Tua'].replace(mapping_pendidikan)\n",
        "\n",
        "# 3. Isi nilai kosong (jika ada) dengan modus\n",
        "modus_pendidikan = data['Pendidikan_Orang_Tua'].mode()[0]\n",
        "data['Pendidikan_Orang_Tua'] = data['Pendidikan_Orang_Tua'].replace('nan', modus_pendidikan)\n",
        "\n",
        "# 4. Cek hasil\n",
        "print(data['Pendidikan_Orang_Tua'].value_counts())"
      ],
      "metadata": {
        "colab": {
          "base_uri": "https://localhost:8080/"
        },
        "id": "iM7J2-gfZUA8",
        "outputId": "03ced806-06dd-4708-8fa7-a5ceaca65f5f"
      },
      "execution_count": 27,
      "outputs": [
        {
          "output_type": "stream",
          "name": "stdout",
          "text": [
            "Pendidikan_Orang_Tua\n",
            "SMA                 164\n",
            "Perguruan Tinggi     88\n",
            "Pascasarjana         48\n",
            "Name: count, dtype: int64\n"
          ]
        }
      ]
    },
    {
      "cell_type": "markdown",
      "source": [
        "# 10. Data Preprocessing - Imputasi Nilai Hilang pada Semua Kolom Yang Tersisa"
      ],
      "metadata": {
        "id": "ncA_uZw_bwAX"
      }
    },
    {
      "cell_type": "code",
      "source": [
        "# Isi missing value kategorik\n",
        "kategori_cols = ['Akses_Sumber_Daya', 'Keterlibatan_Orang_Tua', 'Tingkat_Motivasi',\n",
        "                  'Akses_Internet', 'Pendapatan_Keluarga', 'Kualitas_Guru' ,'Kegiatan_Ekstrakurikuler', 'Kesulitan_Belajar']\n",
        "for col in kategori_cols:\n",
        "    modus = data[col].mode()[0]\n",
        "    data[col] = data[col].fillna(modus)\n",
        "\n",
        "# Isi missing value numeric\n",
        "numeric_cols = ['Kehadiran', 'Jam_Tidur', 'Aktivitas_Fisik', 'Nilai_Sebelumnya', 'Sesi_Bimbingan', 'Nilai_Ujian']\n",
        "for col in numeric_cols:\n",
        "    # Ganti nilai negatif dengan NaN\n",
        "    data[col] = data[col].apply(lambda x: x if x >= 0 else None)\n",
        "    # Isi NA dengan median\n",
        "    median = data[col].median()\n",
        "    data[col] = data[col].fillna(median)\n",
        "\n",
        "# Cek sisa missing value\n",
        "print(data.isna().sum())\n"
      ],
      "metadata": {
        "colab": {
          "base_uri": "https://localhost:8080/"
        },
        "id": "Tmc3ZKCnbMq-",
        "outputId": "884f3dd8-ab0d-4f9d-8d7a-e2ca4567ba63"
      },
      "execution_count": 28,
      "outputs": [
        {
          "output_type": "stream",
          "name": "stdout",
          "text": [
            "Jam_Belajar                 0\n",
            "Kehadiran                   0\n",
            "Keterlibatan_Orang_Tua      0\n",
            "Akses_Sumber_Daya           0\n",
            "Kegiatan_Ekstrakurikuler    0\n",
            "Jam_Tidur                   0\n",
            "Nilai_Sebelumnya            0\n",
            "Tingkat_Motivasi            0\n",
            "Akses_Internet              0\n",
            "Sesi_Bimbingan              0\n",
            "Pendapatan_Keluarga         0\n",
            "Kualitas_Guru               0\n",
            "Jenis_Sekolah               0\n",
            "Pengaruh_Teman              0\n",
            "Aktivitas_Fisik             0\n",
            "Kesulitan_Belajar           0\n",
            "Pendidikan_Orang_Tua        0\n",
            "Jarak_dari_Rumah            0\n",
            "Jenis_Kelamin               0\n",
            "Nilai_Ujian                 0\n",
            "dtype: int64\n"
          ]
        }
      ]
    },
    {
      "cell_type": "markdown",
      "source": [
        "# 11. Data Enrichment"
      ],
      "metadata": {
        "id": "SmdNOLXoeezl"
      }
    },
    {
      "cell_type": "code",
      "source": [
        "pd.set_option('display.max_columns', None)   # Tampilkan semua kolom\n",
        "pd.set_option('display.width', 120)          # Lebar tampilan\n",
        "pd.set_option('display.float_format', '{:.2f}'.format)  # Batasi 2 decimal\n",
        "\n",
        "# Tampilkan 10 baris pertama dan Pilih kolom numeric + total setahun\n",
        "kolom_tampil = ['Jam_Belajar', 'Total_Jam_Belajar_Setahun',\n",
        "                'Sesi_Bimbingan', 'Total_Sesi_Bimbingan_Setahun',\n",
        "                'Jam_Tidur', 'Nilai_Sebelumnya', 'Nilai_Ujian', 'Aktivitas_Fisik']\n",
        "# Tambahkan kolom enrichment jika belum ada\n",
        "if 'Total_Jam_Belajar_Setahun' not in data.columns:\n",
        "    data['Total_Jam_Belajar_Setahun'] = data['Jam_Belajar'] * 52\n",
        "\n",
        "if 'Total_Sesi_Bimbingan_Setahun' not in data.columns:\n",
        "    data['Total_Sesi_Bimbingan_Setahun'] = data['Sesi_Bimbingan'] * 52\n",
        "\n",
        "# Tampilkan hasil\n",
        "print(\"=== Data Enrichment (10 Baris Pertama) ===\")\n",
        "print(data[kolom_tampil].head(10))\n",
        "\n",
        "# Ringkasan statistik numeric\n",
        "print(\"\\n=== Ringkasan Statistik Numeric ===\")\n",
        "print(data[numeric_cols].describe())"
      ],
      "metadata": {
        "colab": {
          "base_uri": "https://localhost:8080/"
        },
        "id": "MQ4v_kJ1eAji",
        "outputId": "b001b332-927d-43a8-c2a2-34fc4db23b06"
      },
      "execution_count": 30,
      "outputs": [
        {
          "output_type": "stream",
          "name": "stdout",
          "text": [
            "=== Data Enrichment (10 Baris Pertama) ===\n",
            "   Jam_Belajar  Total_Jam_Belajar_Setahun  Sesi_Bimbingan  Total_Sesi_Bimbingan_Setahun  Jam_Tidur  Nilai_Sebelumnya  \\\n",
            "0        23.00                    1196.00            0.00                          0.00       7.00             73.00   \n",
            "1        19.00                     988.00            2.00                        104.00       8.00             59.00   \n",
            "2        24.00                    1248.00            2.00                        104.00       7.00             91.00   \n",
            "3        19.00                     988.00            1.00                         52.00       8.00             98.00   \n",
            "4        19.00                     988.00            3.00                        156.00       6.00             65.00   \n",
            "5        19.00                     988.00            3.00                        156.00       8.00             89.00   \n",
            "6        19.00                     988.00            1.00                         52.00       7.00             68.00   \n",
            "7        19.00                     988.00            1.00                         52.00       6.00             50.00   \n",
            "8        17.00                     884.00            0.00                          0.00       6.00             80.00   \n",
            "9        23.00                    1196.00            0.00                          0.00       8.00             71.00   \n",
            "\n",
            "   Nilai_Ujian  Aktivitas_Fisik  \n",
            "0        67.00             3.00  \n",
            "1        61.00             4.00  \n",
            "2        74.00             4.00  \n",
            "3        71.00             4.00  \n",
            "4        67.00             4.00  \n",
            "5        71.00             3.00  \n",
            "6        67.00             2.00  \n",
            "7        66.00             2.00  \n",
            "8        69.00             1.00  \n",
            "9        72.00             5.00  \n",
            "\n",
            "=== Ringkasan Statistik Numeric ===\n",
            "       Kehadiran  Jam_Tidur  Aktivitas_Fisik  Nilai_Sebelumnya  Sesi_Bimbingan  Nilai_Ujian\n",
            "count     300.00     300.00           300.00            300.00          300.00       300.00\n",
            "mean       79.57       6.82             3.04             75.39            1.49        70.29\n",
            "std        11.12       1.41             1.01             14.05            1.14        53.94\n",
            "min        60.00       4.00             0.00             50.00            0.00        59.00\n",
            "25%        70.00       6.00             3.00             65.00            1.00        65.00\n",
            "50%        79.00       7.00             3.00             76.00            1.00        67.00\n",
            "75%        88.00       8.00             4.00             87.25            2.00        69.00\n",
            "max       100.00      10.00             6.00            100.00            5.00       999.00\n"
          ]
        }
      ]
    },
    {
      "cell_type": "markdown",
      "source": [
        "# Download File Setelah Cleansing"
      ],
      "metadata": {
        "id": "pHzZwOzZcq29"
      }
    },
    {
      "cell_type": "code",
      "source": [
        "\n",
        "data.to_csv('StudentPerformanceFactors_Cleansed.csv', index=False)\n",
        "\n",
        "files.download('StudentPerformanceFactors_Cleansed.csv')"
      ],
      "metadata": {
        "colab": {
          "base_uri": "https://localhost:8080/",
          "height": 17
        },
        "id": "y1QvWPT8PWQX",
        "outputId": "250f73d9-2ad2-4cb5-dd8a-095ef51ea4b7"
      },
      "execution_count": 31,
      "outputs": [
        {
          "output_type": "display_data",
          "data": {
            "text/plain": [
              "<IPython.core.display.Javascript object>"
            ],
            "application/javascript": [
              "\n",
              "    async function download(id, filename, size) {\n",
              "      if (!google.colab.kernel.accessAllowed) {\n",
              "        return;\n",
              "      }\n",
              "      const div = document.createElement('div');\n",
              "      const label = document.createElement('label');\n",
              "      label.textContent = `Downloading \"${filename}\": `;\n",
              "      div.appendChild(label);\n",
              "      const progress = document.createElement('progress');\n",
              "      progress.max = size;\n",
              "      div.appendChild(progress);\n",
              "      document.body.appendChild(div);\n",
              "\n",
              "      const buffers = [];\n",
              "      let downloaded = 0;\n",
              "\n",
              "      const channel = await google.colab.kernel.comms.open(id);\n",
              "      // Send a message to notify the kernel that we're ready.\n",
              "      channel.send({})\n",
              "\n",
              "      for await (const message of channel.messages) {\n",
              "        // Send a message to notify the kernel that we're ready.\n",
              "        channel.send({})\n",
              "        if (message.buffers) {\n",
              "          for (const buffer of message.buffers) {\n",
              "            buffers.push(buffer);\n",
              "            downloaded += buffer.byteLength;\n",
              "            progress.value = downloaded;\n",
              "          }\n",
              "        }\n",
              "      }\n",
              "      const blob = new Blob(buffers, {type: 'application/binary'});\n",
              "      const a = document.createElement('a');\n",
              "      a.href = window.URL.createObjectURL(blob);\n",
              "      a.download = filename;\n",
              "      div.appendChild(a);\n",
              "      a.click();\n",
              "      div.remove();\n",
              "    }\n",
              "  "
            ]
          },
          "metadata": {}
        },
        {
          "output_type": "display_data",
          "data": {
            "text/plain": [
              "<IPython.core.display.Javascript object>"
            ],
            "application/javascript": [
              "download(\"download_3108569f-3894-46df-959e-b9829bcd93c3\", \"StudentPerformanceFactors_Cleansed.csv\", 39831)"
            ]
          },
          "metadata": {}
        }
      ]
    }
  ]
}